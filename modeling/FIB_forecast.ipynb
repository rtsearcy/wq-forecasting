{
 "cells": [
  {
   "cell_type": "markdown",
   "metadata": {},
   "source": [
    "# FIB Forecaster\n",
    "<i>Ryan T Searcy - Summer 2022</i>\n",
    "\n",
    "## Develop Forecast Models\n",
    "- Pre-process historical FIB and environmental data for a beach\n",
    "- Split data into a training and test dataset\n",
    "- Fit various model types for all forecast lead times on the training data\n",
    "- Test model predictions and tune based on performance criteria\n",
    "- Select and save best models\n",
    "\n",
    "## Issue Forecasts\n",
    "- Load forecast models\n",
    "- Issue FIB forecasts using new environmental data\n",
    "- Evaluate forecasts against new FIB data\n",
    "\n",
    "## Visualize Results\n",
    "- Plot forecast time series along with FIB observations and environmental data\n",
    "\n",
    "---"
   ]
  },
  {
   "cell_type": "markdown",
   "metadata": {},
   "source": [
    "# Develop Forecast Models\n",
    "Use the following code to develop forecast models based on historical data input. To use already-developed models, skip to the next section.\n",
    "![Forecast modeling pipeline](flow_diagram.png)\n"
   ]
  },
  {
   "cell_type": "code",
   "execution_count": 1,
   "metadata": {},
   "outputs": [],
   "source": [
    "### Inputs\n",
    "\n",
    "folder = ''  # Base Directory\n",
    "train_file = ''  # path to training data\n",
    "\n",
    "beach = ''  # Beach name\n",
    "FIB = 'ENT'  # FIB Type\n",
    "lead_times = [0,1,2,3]  # Days lead time to include in your system\n",
    "\n",
    "\n",
    "\n",
    "\n",
    "# Import Packages\n",
    "import pandas as pd\n",
    "import numpy as np\n",
    "import os\n",
    "\n",
    "import beach_model\n",
    "\n"
   ]
  },
  {
   "cell_type": "markdown",
   "metadata": {},
   "source": [
    "---\n",
    "# Issue Forecasts\n",
    "Load forecast models, input new data, and output forecasts"
   ]
  },
  {
   "cell_type": "code",
   "execution_count": null,
   "metadata": {},
   "outputs": [],
   "source": []
  },
  {
   "cell_type": "markdown",
   "metadata": {},
   "source": [
    "---\n",
    "# Visualize Results"
   ]
  },
  {
   "cell_type": "code",
   "execution_count": null,
   "metadata": {},
   "outputs": [],
   "source": []
  }
 ],
 "metadata": {
  "kernelspec": {
   "display_name": "Python 3",
   "language": "python",
   "name": "python3"
  },
  "language_info": {
   "codemirror_mode": {
    "name": "ipython",
    "version": 3
   },
   "file_extension": ".py",
   "mimetype": "text/x-python",
   "name": "python",
   "nbconvert_exporter": "python",
   "pygments_lexer": "ipython3",
   "version": "3.8.5"
  }
 },
 "nbformat": 4,
 "nbformat_minor": 4
}
